{
 "cells": [
  {
   "cell_type": "code",
   "execution_count": 2,
   "metadata": {},
   "outputs": [],
   "source": [
    "from __future__ import division\n",
    "import numpy as np\n",
    "import pandas as pd\n",
    "from add_feature import PreProcessing\n",
    "from dataloader_1 import DataLoader\n",
    "from set_year import SetYear\n",
    "import matplotlib.pyplot as plt"
   ]
  },
  {
   "cell_type": "code",
   "execution_count": 402,
   "metadata": {},
   "outputs": [],
   "source": [
    "d = np.load('C:\\\\Users\\\\Administrator\\\\PycharmProjects\\\\yonyou\\\\data\\\\data3.npy',allow_pickle=True)\n"
   ]
  },
  {
   "cell_type": "code",
   "execution_count": 461,
   "metadata": {},
   "outputs": [
    {
     "data": {
      "text/plain": [
       "437482"
      ]
     },
     "execution_count": 461,
     "metadata": {},
     "output_type": "execute_result"
    }
   ],
   "source": [
    "sum([i[1] for i in d if i[0][0] == 117410])"
   ]
  },
  {
   "cell_type": "code",
   "execution_count": 413,
   "metadata": {},
   "outputs": [
    {
     "data": {
      "text/plain": [
       "array([[(124404, 2923958, '20170501'), 2],\n",
       "       [(124404, 2925595, '20170501'), 1],\n",
       "       [(124404, 2925645, '20170501'), 5],\n",
       "       ...,\n",
       "       [(158769, '3246987', '20180831'), 2],\n",
       "       [(166408, '3316005', '20180831'), 1],\n",
       "       [(117410, '57dec410-e0e6-4ba6-a325-f4d104a7e642', '20180831'), 7]],\n",
       "      dtype=object)"
      ]
     },
     "execution_count": 413,
     "metadata": {},
     "output_type": "execute_result"
    }
   ],
   "source": [
    "d"
   ]
  },
  {
   "cell_type": "code",
   "execution_count": 351,
   "metadata": {},
   "outputs": [],
   "source": [
    "df = []\n",
    "for i in d:\n",
    "    temp = list(i[0])\n",
    "    temp.append(i[1])\n",
    "    df.append(temp)"
   ]
  },
  {
   "cell_type": "code",
   "execution_count": 352,
   "metadata": {},
   "outputs": [],
   "source": [
    "data = pd.DataFrame(df,columns = ['instance_id','user_id','date','actions'])"
   ]
  },
  {
   "cell_type": "code",
   "execution_count": 354,
   "metadata": {},
   "outputs": [],
   "source": [
    "process = PreProcessing(data,'date')"
   ]
  },
  {
   "cell_type": "code",
   "execution_count": 355,
   "metadata": {},
   "outputs": [
    {
     "name": "stdout",
     "output_type": "stream",
     "text": [
      "step 1: iteration 2277999  out of 2278543\n"
     ]
    }
   ],
   "source": [
    "data_with_date_type = process.add_column()"
   ]
  },
  {
   "cell_type": "code",
   "execution_count": 358,
   "metadata": {},
   "outputs": [
    {
     "data": {
      "text/html": [
       "<div>\n",
       "<style scoped>\n",
       "    .dataframe tbody tr th:only-of-type {\n",
       "        vertical-align: middle;\n",
       "    }\n",
       "\n",
       "    .dataframe tbody tr th {\n",
       "        vertical-align: top;\n",
       "    }\n",
       "\n",
       "    .dataframe thead th {\n",
       "        text-align: right;\n",
       "    }\n",
       "</style>\n",
       "<table border=\"1\" class=\"dataframe\">\n",
       "  <thead>\n",
       "    <tr style=\"text-align: right;\">\n",
       "      <th></th>\n",
       "      <th>instance_id</th>\n",
       "      <th>user_id</th>\n",
       "      <th>date</th>\n",
       "      <th>actions</th>\n",
       "      <th>date_type</th>\n",
       "    </tr>\n",
       "  </thead>\n",
       "  <tbody>\n",
       "    <tr>\n",
       "      <th>0</th>\n",
       "      <td>124404</td>\n",
       "      <td>2923958</td>\n",
       "      <td>20170501</td>\n",
       "      <td>2</td>\n",
       "      <td>1</td>\n",
       "    </tr>\n",
       "  </tbody>\n",
       "</table>\n",
       "</div>"
      ],
      "text/plain": [
       "   instance_id  user_id      date  actions  date_type\n",
       "0       124404  2923958  20170501        2          1"
      ]
     },
     "execution_count": 358,
     "metadata": {},
     "output_type": "execute_result"
    }
   ],
   "source": [
    "data_with_date_type.head(1)"
   ]
  },
  {
   "cell_type": "code",
   "execution_count": 407,
   "metadata": {},
   "outputs": [
    {
     "data": {
      "text/html": [
       "<div>\n",
       "<style scoped>\n",
       "    .dataframe tbody tr th:only-of-type {\n",
       "        vertical-align: middle;\n",
       "    }\n",
       "\n",
       "    .dataframe tbody tr th {\n",
       "        vertical-align: top;\n",
       "    }\n",
       "\n",
       "    .dataframe thead th {\n",
       "        text-align: right;\n",
       "    }\n",
       "</style>\n",
       "<table border=\"1\" class=\"dataframe\">\n",
       "  <thead>\n",
       "    <tr style=\"text-align: right;\">\n",
       "      <th></th>\n",
       "      <th>instance_id</th>\n",
       "      <th>user_id</th>\n",
       "      <th>date</th>\n",
       "      <th>actions</th>\n",
       "      <th>date_type</th>\n",
       "    </tr>\n",
       "  </thead>\n",
       "  <tbody>\n",
       "    <tr>\n",
       "      <th>36835</th>\n",
       "      <td>161119</td>\n",
       "      <td>0</td>\n",
       "      <td>20170707</td>\n",
       "      <td>21</td>\n",
       "      <td>0</td>\n",
       "    </tr>\n",
       "    <tr>\n",
       "      <th>339213</th>\n",
       "      <td>161119</td>\n",
       "      <td>0</td>\n",
       "      <td>20171101</td>\n",
       "      <td>1</td>\n",
       "      <td>0</td>\n",
       "    </tr>\n",
       "  </tbody>\n",
       "</table>\n",
       "</div>"
      ],
      "text/plain": [
       "        instance_id user_id      date  actions  date_type\n",
       "36835        161119       0  20170707       21          0\n",
       "339213       161119       0  20171101        1          0"
      ]
     },
     "execution_count": 407,
     "metadata": {},
     "output_type": "execute_result"
    }
   ],
   "source": [
    "data_with_date_type[(data_with_date_type['instance_id']==161119) & (data_with_date_type['user_id'] != '0')]"
   ]
  },
  {
   "cell_type": "code",
   "execution_count": 356,
   "metadata": {},
   "outputs": [],
   "source": [
    "np.save('data.npy',data_with_date_type)"
   ]
  },
  {
   "cell_type": "code",
   "execution_count": 25,
   "metadata": {},
   "outputs": [],
   "source": [
    "data_with_date_type = np.load('data.npy', allow_pickle=True)"
   ]
  },
  {
   "cell_type": "code",
   "execution_count": 24,
   "metadata": {},
   "outputs": [],
   "source": [
    "s = SetYear(df = data_with_date_type,filename='C:\\\\Users\\\\Administrator\\\\PycharmProjects\\\\yonyou\\\\data\\\\instance_created.csv')"
   ]
  },
  {
   "cell_type": "code",
   "execution_count": 27,
   "metadata": {},
   "outputs": [
    {
     "name": "stdout",
     "output_type": "stream",
     "text": [
      "start step 2\n"
     ]
    }
   ],
   "source": [
    "data_array = s.change_time()"
   ]
  },
  {
   "cell_type": "code",
   "execution_count": 343,
   "metadata": {},
   "outputs": [],
   "source": [
    "data_array = pd.DataFrame(data_array,columns=['instanceId','userId','date','actions'])\n"
   ]
  },
  {
   "cell_type": "code",
   "execution_count": 30,
   "metadata": {},
   "outputs": [],
   "source": [
    "data_array['date'] = pd.to_numeric(data_array['date'])"
   ]
  },
  {
   "cell_type": "code",
   "execution_count": 335,
   "metadata": {},
   "outputs": [],
   "source": [
    "data_array = data_array[(data_array['date'] >= 0) & (data_array['userId'] == 0)]"
   ]
  },
  {
   "cell_type": "code",
   "execution_count": 348,
   "metadata": {},
   "outputs": [
    {
     "data": {
      "text/plain": [
       "0"
      ]
     },
     "execution_count": 348,
     "metadata": {},
     "output_type": "execute_result"
    }
   ],
   "source": [
    "sum(data_array[(data_array['instanceId']==3618) & (data_array['userId'] != 0)]['actions'].tolist())"
   ]
  },
  {
   "cell_type": "code",
   "execution_count": 337,
   "metadata": {},
   "outputs": [],
   "source": [
    "# Get unique instances\n",
    "unique_instances = list(set(data_array['instanceId'].tolist()))\n",
    "def build(i):\n",
    "    #select * from df where instanceId == i\n",
    "    df = data_array[(data_array['instanceId'] == i)]\n",
    "    \n",
    "    d = df['date'].tolist()\n",
    "    unique_dates = sorted(list(set(d)))\n",
    "    \n",
    "    # Make a dictionary containing {True_Date: index_of_date}\n",
    "    dictionary = {}\n",
    "    for index, item in enumerate(unique_dates):\n",
    "        dictionary.update({item: index})\n",
    "    column = []\n",
    "    \n",
    "    for i in d:\n",
    "        for key in dictionary:\n",
    "            if i == key:\n",
    "                column.append(dictionary[key])\n",
    "                \n",
    "    df['date'] = column\n",
    "    return df\n",
    "result = list(map(build, unique_instances))\n",
    "\n",
    "for i in range(len(result)):\n",
    "    if i == 0:\n",
    "        data = result[i]\n",
    "    else:\n",
    "        data = pd.concat([data,result[i]], axis = 0)\n",
    "    "
   ]
  },
  {
   "cell_type": "code",
   "execution_count": 338,
   "metadata": {},
   "outputs": [
    {
     "ename": "TypeError",
     "evalue": "tuple indices must be integers or slices, not str",
     "output_type": "error",
     "traceback": [
      "\u001b[1;31m---------------------------------------------------------------------------\u001b[0m",
      "\u001b[1;31mTypeError\u001b[0m                                 Traceback (most recent call last)",
      "\u001b[1;32m<ipython-input-338-0f26163ef11a>\u001b[0m in \u001b[0;36m<module>\u001b[1;34m\u001b[0m\n\u001b[1;32m----> 1\u001b[1;33m \u001b[0mdata\u001b[0m \u001b[1;33m=\u001b[0m \u001b[0mdata\u001b[0m\u001b[1;33m[\u001b[0m\u001b[0mdata\u001b[0m\u001b[1;33m[\u001b[0m\u001b[1;34m'date'\u001b[0m\u001b[1;33m]\u001b[0m \u001b[1;33m<=\u001b[0m \u001b[1;36m125\u001b[0m\u001b[1;33m]\u001b[0m\u001b[1;33m\u001b[0m\u001b[1;33m\u001b[0m\u001b[0m\n\u001b[0m",
      "\u001b[1;31mTypeError\u001b[0m: tuple indices must be integers or slices, not str"
     ]
    }
   ],
   "source": [
    "data = data[data['date'] <= 125]"
   ]
  },
  {
   "cell_type": "code",
   "execution_count": 339,
   "metadata": {},
   "outputs": [
    {
     "ename": "TypeError",
     "evalue": "tuple indices must be integers or slices, not str",
     "output_type": "error",
     "traceback": [
      "\u001b[1;31m---------------------------------------------------------------------------\u001b[0m",
      "\u001b[1;31mTypeError\u001b[0m                                 Traceback (most recent call last)",
      "\u001b[1;32m<ipython-input-339-cf540c98e8c4>\u001b[0m in \u001b[0;36m<module>\u001b[1;34m\u001b[0m\n\u001b[1;32m----> 1\u001b[1;33m \u001b[0msum\u001b[0m\u001b[1;33m(\u001b[0m\u001b[0mdata\u001b[0m\u001b[1;33m[\u001b[0m\u001b[1;34m'actions'\u001b[0m\u001b[1;33m]\u001b[0m\u001b[1;33m.\u001b[0m\u001b[0mtolist\u001b[0m\u001b[1;33m(\u001b[0m\u001b[1;33m)\u001b[0m\u001b[1;33m)\u001b[0m\u001b[1;33m\u001b[0m\u001b[1;33m\u001b[0m\u001b[0m\n\u001b[0m",
      "\u001b[1;31mTypeError\u001b[0m: tuple indices must be integers or slices, not str"
     ]
    }
   ],
   "source": [
    "sum(data['actions'].tolist())"
   ]
  },
  {
   "cell_type": "code",
   "execution_count": 325,
   "metadata": {},
   "outputs": [],
   "source": [
    "p = DataLoader(data,'date',['userId','actions','instanceId','date'],'instanceId'\n",
    "              )"
   ]
  },
  {
   "cell_type": "code",
   "execution_count": 326,
   "metadata": {},
   "outputs": [
    {
     "name": "stdout",
     "output_type": "stream",
     "text": [
      "step 2: iteration 125  out of 126\n",
      "time ultilized: 0.42386746406555176\n"
     ]
    }
   ],
   "source": [
    "data = p.sum_all()"
   ]
  },
  {
   "cell_type": "code",
   "execution_count": 327,
   "metadata": {},
   "outputs": [],
   "source": [
    "data1 = np.array(data[0])\n",
    "data1 = np.transpose(np.array(data1),(1,0))"
   ]
  },
  {
   "cell_type": "code",
   "execution_count": 328,
   "metadata": {},
   "outputs": [
    {
     "data": {
      "text/plain": [
       "(189, 126)"
      ]
     },
     "execution_count": 328,
     "metadata": {},
     "output_type": "execute_result"
    }
   ],
   "source": [
    "data1.shape"
   ]
  },
  {
   "cell_type": "code",
   "execution_count": 329,
   "metadata": {},
   "outputs": [],
   "source": [
    "repaid = pd.read_csv('C:\\\\Users\\\\Administrator\\\\PycharmProjects\\\\yonyou\\\\data\\\\repaid_instances.csv')\n",
    "repaid_list = repaid['instance_id'].tolist()\n",
    "instances = [int(i) for i in data[1]]\n",
    "label = []\n",
    "for i in instances:\n",
    "    if i in repaid_list:\n",
    "        label.append(1)\n",
    "    else:\n",
    "        label.append(0)"
   ]
  },
  {
   "cell_type": "code",
   "execution_count": 388,
   "metadata": {},
   "outputs": [
    {
     "data": {
      "text/plain": [
       "[108339,\n",
       " 3618,\n",
       " 22846,\n",
       " 3662,\n",
       " 3635,\n",
       " 8227,\n",
       " 1,\n",
       " 764,\n",
       " 64675,\n",
       " 8295,\n",
       " 72503,\n",
       " 32,\n",
       " 4227,\n",
       " 20951,\n",
       " 665,\n",
       " 140208,\n",
       " 12954,\n",
       " 18,\n",
       " 123,\n",
       " 24944,\n",
       " 910,\n",
       " 1801291,\n",
       " 3621,\n",
       " 981,\n",
       " 2221,\n",
       " 6623,\n",
       " 41786,\n",
       " 13020,\n",
       " 450161,\n",
       " 472,\n",
       " 74,\n",
       " 105,\n",
       " 44599,\n",
       " 1000,\n",
       " 18339,\n",
       " 144,\n",
       " 2150,\n",
       " 28226,\n",
       " 246,\n",
       " 7862,\n",
       " 202456,\n",
       " 31191,\n",
       " 15584,\n",
       " 22,\n",
       " 7316,\n",
       " 2,\n",
       " 14,\n",
       " 207798,\n",
       " 348,\n",
       " 2029,\n",
       " 14303,\n",
       " 2672,\n",
       " 7279,\n",
       " 730,\n",
       " 12638,\n",
       " 43155,\n",
       " 220,\n",
       " 356,\n",
       " 2219,\n",
       " 117,\n",
       " 54714,\n",
       " 32242,\n",
       " 3178,\n",
       " 7075,\n",
       " 221488,\n",
       " 6167,\n",
       " 33791,\n",
       " 11836,\n",
       " 37095,\n",
       " 6142,\n",
       " 429,\n",
       " 109084,\n",
       " 52,\n",
       " 22223,\n",
       " 623,\n",
       " 112,\n",
       " 66379,\n",
       " 121064,\n",
       " 5930,\n",
       " 288,\n",
       " 11769,\n",
       " 32,\n",
       " 4340,\n",
       " 26563,\n",
       " 1549,\n",
       " 2882,\n",
       " 3731,\n",
       " 17794,\n",
       " 4393,\n",
       " 79013,\n",
       " 7752,\n",
       " 13232,\n",
       " 604,\n",
       " 494,\n",
       " 690,\n",
       " 7,\n",
       " 1837,\n",
       " 14203,\n",
       " 44517,\n",
       " 48216,\n",
       " 9722,\n",
       " 1733,\n",
       " 843,\n",
       " 925,\n",
       " 128005,\n",
       " 45266,\n",
       " 2854,\n",
       " 1825,\n",
       " 6874,\n",
       " 36600,\n",
       " 11610,\n",
       " 289266,\n",
       " 23197,\n",
       " 556,\n",
       " 11224,\n",
       " 6877,\n",
       " 23353,\n",
       " 4652,\n",
       " 83857,\n",
       " 170212,\n",
       " 568,\n",
       " 75377,\n",
       " 125355,\n",
       " 227,\n",
       " 1256,\n",
       " 118868,\n",
       " 21421,\n",
       " 605,\n",
       " 23556,\n",
       " 293,\n",
       " 935,\n",
       " 135,\n",
       " 95744,\n",
       " 236,\n",
       " 6,\n",
       " 5537,\n",
       " 77881,\n",
       " 96,\n",
       " 52719,\n",
       " 35,\n",
       " 15879,\n",
       " 141977,\n",
       " 4226,\n",
       " 3684,\n",
       " 7386,\n",
       " 10021,\n",
       " 38697,\n",
       " 37,\n",
       " 1386,\n",
       " 8,\n",
       " 55,\n",
       " 5,\n",
       " 12254,\n",
       " 167699,\n",
       " 3,\n",
       " 547,\n",
       " 2444,\n",
       " 256,\n",
       " 537,\n",
       " 127,\n",
       " 243076,\n",
       " 276,\n",
       " 134178,\n",
       " 412,\n",
       " 19217,\n",
       " 101627,\n",
       " 222432,\n",
       " 15,\n",
       " 1682,\n",
       " 40120,\n",
       " 14686,\n",
       " 14838,\n",
       " 2819,\n",
       " 1393,\n",
       " 262,\n",
       " 841,\n",
       " 16626,\n",
       " 67523,\n",
       " 14,\n",
       " 22286,\n",
       " 489403,\n",
       " 118077,\n",
       " 41,\n",
       " 106181,\n",
       " 26803,\n",
       " 748,\n",
       " 13925,\n",
       " 198,\n",
       " 17721]"
      ]
     },
     "execution_count": 388,
     "metadata": {},
     "output_type": "execute_result"
    }
   ],
   "source": [
    "[sum(i) for i in data1]"
   ]
  },
  {
   "cell_type": "code",
   "execution_count": 331,
   "metadata": {},
   "outputs": [],
   "source": [
    "def plot(x,y):\n",
    "    p1 = np.polyfit(x, y, 1)\n",
    "    plt.scatter(x, y)\n",
    "    xlims = plt.xlim()\n",
    "    x.insert(0, xlims[0])\n",
    "    plt.xlabel(\"work_days\")\n",
    "\n",
    "    plt.ylabel(\"number of actions\")\n",
    "    y.insert(0, np.polyval(p1, xlims[0]))\n",
    "    x.append(xlims[1])\n",
    "    y.append(np.polyval(p1, xlims[1]))\n",
    "    plt.plot(x, np.polyval(p1,x), 'r-', linewidth = 1.5)\n",
    "    plt.xlim(xlims)\n",
    "    plt.show()"
   ]
  },
  {
   "cell_type": "code",
   "execution_count": 440,
   "metadata": {},
   "outputs": [
    {
     "data": {
      "text/plain": [
       "108"
      ]
     },
     "execution_count": 440,
     "metadata": {},
     "output_type": "execute_result"
    }
   ],
   "source": []
  },
  {
   "cell_type": "code",
   "execution_count": 456,
   "metadata": {},
   "outputs": [
    {
     "name": "stdout",
     "output_type": "stream",
     "text": [
      "-2.3532868391451083 [-3.3532868391451083]\n",
      "0 171222 17794\n"
     ]
    },
    {
     "data": {
      "image/png": "[encoded data removed]",
      "text/plain": [
       "<Figure size 432x288 with 1 Axes>"
      ]
     },
     "metadata": {
      "needs_background": "light"
     },
     "output_type": "display_data"
    }
   ],
   "source": [
    "indx = instances.index(171222\n",
    ")\n",
    "y = list(data1[indx])\n",
    "x = list(np.arange(len(y)))\n",
    "iteration = 1\n",
    "step = len(y)//iteration\n",
    "coeffs = []\n",
    "for i in range(iteration):\n",
    "    coeffs.append(np.polyfit(x[i*step: (i+1) * step],y[i*step: (i+1) * step],1)[0])\n",
    "coef = 0\n",
    "for index, i in enumerate(coeffs):\n",
    "    coef += 1+ ((index+1)/(iteration))* i\n",
    "print(coef,coeffs)\n",
    "\n",
    "print(label[indx],instances[indx],sum(y))\n",
    "plot(x,y)"
   ]
  },
  {
   "cell_type": "code",
   "execution_count": null,
   "metadata": {},
   "outputs": [],
   "source": []
  },
  {
   "cell_type": "code",
   "execution_count": null,
   "metadata": {},
   "outputs": [],
   "source": [
    "t = time.time()\n",
    "def build(i):\n",
    "    for j in b:\n",
    "        if i>j:\n",
    "            return i\n",
    "lst1 = list(map(build,a))\n",
    "print(time.time()-t)\n"
   ]
  },
  {
   "cell_type": "code",
   "execution_count": null,
   "metadata": {},
   "outputs": [],
   "source": [
    "lst1"
   ]
  }
 ],
 "metadata": {
  "kernelspec": {
   "display_name": "Python 3",
   "language": "python",
   "name": "python3"
  },
  "language_info": {
   "codemirror_mode": {
    "name": "ipython",
    "version": 3
   },
   "file_extension": ".py",
   "mimetype": "text/x-python",
   "name": "python",
   "nbconvert_exporter": "python",
   "pygments_lexer": "ipython3",
   "version": "3.6.8"
  }
 },
 "nbformat": 4,
 "nbformat_minor": 2
}
